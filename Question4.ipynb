{
 "cells": [
  {
   "cell_type": "code",
   "execution_count": 7,
   "metadata": {},
   "outputs": [
    {
     "name": "stdout",
     "output_type": "stream",
     "text": [
      "after swap the value of x is : 2 after swap the value of y is : 1\n"
     ]
    }
   ],
   "source": [
    "#this program is to get the output of swap two numbers using temp variable\n",
    "\n",
    "x=1\n",
    "y=2\n",
    "\n",
    "#here we are not using any variable to swap the numbers\n",
    "\n",
    "x,y=y,x\n",
    "\n",
    "\n",
    "print(\"after swap the value of x is :\",x, \"after swap the value of y is :\",y)"
   ]
  },
  {
   "cell_type": "code",
   "execution_count": null,
   "metadata": {},
   "outputs": [],
   "source": []
  },
  {
   "cell_type": "code",
   "execution_count": null,
   "metadata": {},
   "outputs": [],
   "source": []
  }
 ],
 "metadata": {
  "kernelspec": {
   "display_name": "Python 3",
   "language": "python",
   "name": "python3"
  },
  "language_info": {
   "codemirror_mode": {
    "name": "ipython",
    "version": 3
   },
   "file_extension": ".py",
   "mimetype": "text/x-python",
   "name": "python",
   "nbconvert_exporter": "python",
   "pygments_lexer": "ipython3",
   "version": "3.8.5"
  }
 },
 "nbformat": 4,
 "nbformat_minor": 4
}
