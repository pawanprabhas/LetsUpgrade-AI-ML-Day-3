{
 "cells": [
  {
   "cell_type": "code",
   "execution_count": null,
   "metadata": {},
   "outputs": [],
   "source": []
  },
  {
   "cell_type": "code",
   "execution_count": 7,
   "metadata": {},
   "outputs": [
    {
     "name": "stdout",
     "output_type": "stream",
     "text": [
      "Temperature in Kelvin ( K ) = 311.278\n"
     ]
    }
   ],
   "source": [
    "# function to convert temperature\n",
    "def Fahrenheit_to_Kelvin(F):\n",
    "    return 273.5 + ((F - 32.0) * (5.0/9.0))\n",
    " \n",
    "# Driver function\n",
    "F = 100\n",
    "print(\"Temperature in Kelvin ( K ) = {:.3f}\"\n",
    "            .format(Fahrenheit_to_Kelvin( F )))"
   ]
  },
  {
   "cell_type": "code",
   "execution_count": 6,
   "metadata": {},
   "outputs": [
    {
     "name": "stdout",
     "output_type": "stream",
     "text": [
      "Enter temperature in Fahrenheit: 1000\n",
      "1000.0 in Fahrenheit is equal to 537.7777777777778 in Celsius\n"
     ]
    }
   ],
   "source": [
    "temp = float(input(\"Enter temperature in Fahrenheit: \"))\n",
    "celsius = (temp - 32) * 5/9\n",
    "print(f\"{temp} in Fahrenheit is equal to {celsius} in Celsius\")"
   ]
  },
  {
   "cell_type": "code",
   "execution_count": null,
   "metadata": {},
   "outputs": [],
   "source": []
  }
 ],
 "metadata": {
  "kernelspec": {
   "display_name": "Python 3",
   "language": "python",
   "name": "python3"
  },
  "language_info": {
   "codemirror_mode": {
    "name": "ipython",
    "version": 3
   },
   "file_extension": ".py",
   "mimetype": "text/x-python",
   "name": "python",
   "nbconvert_exporter": "python",
   "pygments_lexer": "ipython3",
   "version": "3.8.5"
  }
 },
 "nbformat": 4,
 "nbformat_minor": 4
}
